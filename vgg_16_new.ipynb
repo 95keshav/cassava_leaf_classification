{
 "cells": [
  {
   "cell_type": "code",
   "execution_count": 2,
   "id": "fleet-twenty",
   "metadata": {},
   "outputs": [
    {
     "name": "stdout",
     "output_type": "stream",
     "text": [
      "Imported\n"
     ]
    }
   ],
   "source": [
    "import env\n",
    "from keras.models import Sequential, Model\n",
    "from keras.layers import Dense, Dropout, Conv2D, MaxPool2D, Flatten, Activation, LeakyReLU, BatchNormalization, Input, AveragePooling2D\n",
    "from keras.utils import np_utils\n",
    "from sklearn.model_selection import train_test_split \n",
    "from tensorflow.keras.optimizers import SGD\n",
    "import numpy as np\n",
    "import tensorflow as tf\n",
    "import matplotlib.pyplot as plt\n",
    "from tensorflow.keras.applications import VGG16\n",
    "print(\"Imported\")\n"
   ]
  },
  {
   "cell_type": "code",
   "execution_count": 3,
   "id": "2512c05c",
   "metadata": {},
   "outputs": [
    {
     "name": "stdout",
     "output_type": "stream",
     "text": [
      "START123\n"
     ]
    }
   ],
   "source": [
    "print(\"START123\")\n",
    "config = tf.compat.v1.ConfigProto(gpu_options=tf.compat.v1.GPUOptions(per_process_gpu_memory_fraction=0.3))\n",
    "config.gpu_options.allow_growth = True\n",
    "config.gpu_options.per_process_gpu_memory_fraction = 0.3\n",
    "session = tf.compat.v1.Session(config=config)\n",
    "tf.compat.v1.keras.backend.set_session(session)"
   ]
  },
  {
   "cell_type": "code",
   "execution_count": 4,
   "id": "loved-flood",
   "metadata": {},
   "outputs": [
    {
     "name": "stdout",
     "output_type": "stream",
     "text": [
      "LOADED\n",
      "(990, 224, 224, 3)\n",
      "(990, 5)\n"
     ]
    }
   ],
   "source": [
    "X = np.load(env.FEATURES_PATH)\n",
    "Y = np.load(env.LABELS_PATH)\n",
    "x_train,x_test,y_train,y_test = train_test_split(X,Y,test_size=0.01)\n",
    "\n",
    "print(\"LOADED\")\n",
    "print(x_train.shape)\n",
    "print(y_train.shape)"
   ]
  },
  {
   "cell_type": "code",
   "execution_count": 5,
   "id": "pediatric-collectible",
   "metadata": {},
   "outputs": [
    {
     "name": "stdout",
     "output_type": "stream",
     "text": [
      "preparing model...\n",
      "DONE\n"
     ]
    }
   ],
   "source": [
    "#vgg16\n",
    "print(\"preparing model...\")\n",
    "base = VGG16(weights=\"imagenet\", include_top=False,input_tensor=Input(shape=(224, 224, 3)))\n",
    "#weights=\"imagenet\",\n",
    "new_model = base.output\n",
    "new_model = MaxPool2D(pool_size=(7, 7))(new_model)\n",
    "new_model = Flatten(name=\"flatten\")(new_model)\n",
    "new_model = Dense(256)(new_model)\n",
    "new_model = LeakyReLU(0.2)(new_model)\n",
    "new_model = Dropout(0.5)(new_model)\n",
    "new_model = Dense(5, activation=\"softmax\")(new_model)\n",
    "new_model = Activation('softmax')(new_model)\n",
    "# place the head FC model on top of the base model (this will become\n",
    "# the actual model we will train)\n",
    "model = Model(inputs=base.input, outputs=new_model)\n",
    "\n",
    "#Make the pre trained layers untrainable\n",
    "for layer in base.layers:\n",
    "    layer.trainable = False\n",
    "print(\"DONE\")"
   ]
  },
  {
   "cell_type": "code",
   "execution_count": 6,
   "id": "patent-consumer",
   "metadata": {},
   "outputs": [
    {
     "name": "stdout",
     "output_type": "stream",
     "text": [
      "Model: \"model\"\n",
      "_________________________________________________________________\n",
      " Layer (type)                Output Shape              Param #   \n",
      "=================================================================\n",
      " input_1 (InputLayer)        [(None, 224, 224, 3)]     0         \n",
      "                                                                 \n",
      " block1_conv1 (Conv2D)       (None, 224, 224, 64)      1792      \n",
      "                                                                 \n",
      " block1_conv2 (Conv2D)       (None, 224, 224, 64)      36928     \n",
      "                                                                 \n",
      " block1_pool (MaxPooling2D)  (None, 112, 112, 64)      0         \n",
      "                                                                 \n",
      " block2_conv1 (Conv2D)       (None, 112, 112, 128)     73856     \n",
      "                                                                 \n",
      " block2_conv2 (Conv2D)       (None, 112, 112, 128)     147584    \n",
      "                                                                 \n",
      " block2_pool (MaxPooling2D)  (None, 56, 56, 128)       0         \n",
      "                                                                 \n",
      " block3_conv1 (Conv2D)       (None, 56, 56, 256)       295168    \n",
      "                                                                 \n",
      " block3_conv2 (Conv2D)       (None, 56, 56, 256)       590080    \n",
      "                                                                 \n",
      " block3_conv3 (Conv2D)       (None, 56, 56, 256)       590080    \n",
      "                                                                 \n",
      " block3_pool (MaxPooling2D)  (None, 28, 28, 256)       0         \n",
      "                                                                 \n",
      " block4_conv1 (Conv2D)       (None, 28, 28, 512)       1180160   \n",
      "                                                                 \n",
      " block4_conv2 (Conv2D)       (None, 28, 28, 512)       2359808   \n",
      "                                                                 \n",
      " block4_conv3 (Conv2D)       (None, 28, 28, 512)       2359808   \n",
      "                                                                 \n",
      " block4_pool (MaxPooling2D)  (None, 14, 14, 512)       0         \n",
      "                                                                 \n",
      " block5_conv1 (Conv2D)       (None, 14, 14, 512)       2359808   \n",
      "                                                                 \n",
      " block5_conv2 (Conv2D)       (None, 14, 14, 512)       2359808   \n",
      "                                                                 \n",
      " block5_conv3 (Conv2D)       (None, 14, 14, 512)       2359808   \n",
      "                                                                 \n",
      " block5_pool (MaxPooling2D)  (None, 7, 7, 512)         0         \n",
      "                                                                 \n",
      " max_pooling2d (MaxPooling2D  (None, 1, 1, 512)        0         \n",
      " )                                                               \n",
      "                                                                 \n",
      " flatten (Flatten)           (None, 512)               0         \n",
      "                                                                 \n",
      " dense (Dense)               (None, 256)               131328    \n",
      "                                                                 \n",
      " leaky_re_lu (LeakyReLU)     (None, 256)               0         \n",
      "                                                                 \n",
      " dropout (Dropout)           (None, 256)               0         \n",
      "                                                                 \n",
      " dense_1 (Dense)             (None, 5)                 1285      \n",
      "                                                                 \n",
      " activation (Activation)     (None, 5)                 0         \n",
      "                                                                 \n",
      "=================================================================\n",
      "Total params: 14,847,301\n",
      "Trainable params: 132,613\n",
      "Non-trainable params: 14,714,688\n",
      "_________________________________________________________________\n"
     ]
    },
    {
     "name": "stderr",
     "output_type": "stream",
     "text": [
      "C:\\Users\\95kes\\python\\lib\\site-packages\\keras\\optimizer_v2\\gradient_descent.py:102: UserWarning: The `lr` argument is deprecated, use `learning_rate` instead.\n",
      "  super(SGD, self).__init__(name, **kwargs)\n",
      "C:\\Users\\95kes\\python\\lib\\site-packages\\keras\\optimizer_v2\\adam.py:105: UserWarning: The `lr` argument is deprecated, use `learning_rate` instead.\n",
      "  super(Adam, self).__init__(name, **kwargs)\n"
     ]
    }
   ],
   "source": [
    "epochs = 50\n",
    "learning_rate = 0.001\n",
    "decay_rate = learning_rate / epochs\n",
    "momentum = 0.2\n",
    "sgd = SGD(lr=learning_rate, momentum=momentum, decay=decay_rate, nesterov=False)\n",
    "adam = tf.keras.optimizers.Adam(lr = learning_rate, decay=decay_rate)\n",
    "model.compile(loss='kullback_leibler_divergence', optimizer=sgd, metrics=['accuracy'])\n",
    "#kullback_leibler_divergence\n",
    "#categorical_crossentropy\n",
    "model.summary()"
   ]
  },
  {
   "cell_type": "code",
   "execution_count": 7,
   "id": "unsigned-breeding",
   "metadata": {},
   "outputs": [
    {
     "name": "stdout",
     "output_type": "stream",
     "text": [
      "Epoch 1/50\n",
      "25/25 [==============================] - 15s 332ms/step - loss: 1.6825 - accuracy: 0.1250 - val_loss: 1.6372 - val_accuracy: 0.1364\n",
      "Epoch 2/50\n",
      "25/25 [==============================] - 4s 153ms/step - loss: 1.5924 - accuracy: 0.2538 - val_loss: 1.4952 - val_accuracy: 0.5707\n",
      "Epoch 3/50\n",
      "25/25 [==============================] - 4s 151ms/step - loss: 1.4606 - accuracy: 0.4710 - val_loss: 1.3637 - val_accuracy: 0.6010\n",
      "Epoch 4/50\n",
      "25/25 [==============================] - 4s 152ms/step - loss: 1.3631 - accuracy: 0.5896 - val_loss: 1.3250 - val_accuracy: 0.6010\n",
      "Epoch 5/50\n",
      "25/25 [==============================] - 4s 151ms/step - loss: 1.3212 - accuracy: 0.6212 - val_loss: 1.3147 - val_accuracy: 0.6010\n",
      "Epoch 6/50\n",
      "25/25 [==============================] - 4s 152ms/step - loss: 1.2952 - accuracy: 0.6326 - val_loss: 1.3111 - val_accuracy: 0.6010\n",
      "Epoch 7/50\n",
      "25/25 [==============================] - 4s 152ms/step - loss: 1.2937 - accuracy: 0.6288 - val_loss: 1.3091 - val_accuracy: 0.6010\n",
      "Epoch 8/50\n",
      "25/25 [==============================] - 4s 152ms/step - loss: 1.2896 - accuracy: 0.6326 - val_loss: 1.3079 - val_accuracy: 0.6010\n",
      "Epoch 9/50\n",
      "25/25 [==============================] - 4s 152ms/step - loss: 1.2837 - accuracy: 0.6326 - val_loss: 1.3071 - val_accuracy: 0.6010\n",
      "Epoch 10/50\n",
      "25/25 [==============================] - 4s 153ms/step - loss: 1.2861 - accuracy: 0.6313 - val_loss: 1.3065 - val_accuracy: 0.6010\n",
      "Epoch 11/50\n",
      "25/25 [==============================] - 4s 154ms/step - loss: 1.2832 - accuracy: 0.6313 - val_loss: 1.3061 - val_accuracy: 0.6010\n",
      "Epoch 00011: early stopping\n"
     ]
    }
   ],
   "source": [
    "from keras.callbacks import EarlyStopping\n",
    "es = EarlyStopping(monitor='val_accuracy', mode='min', verbose=1,patience=10)\n",
    "trained = model.fit(x_train, y_train, batch_size=32, epochs=epochs, validation_split = 0.2, shuffle = True,callbacks=[es])"
   ]
  },
  {
   "cell_type": "code",
   "execution_count": 14,
   "id": "falling-jones",
   "metadata": {},
   "outputs": [
    {
     "data": {
      "text/plain": [
       "<matplotlib.legend.Legend at 0x190bc233978>"
      ]
     },
     "execution_count": 14,
     "metadata": {},
     "output_type": "execute_result"
    },
    {
     "data": {
      "image/png": "[encoded data removed]",
      "text/plain": [
       "<Figure size 432x288 with 1 Axes>"
      ]
     },
     "metadata": {
      "needs_background": "light"
     },
     "output_type": "display_data"
    }
   ],
   "source": [
    "plt.plot(trained.history['loss'], label=\"loss\")\n",
    "plt.plot(trained.history['val_loss'], label=\"validation loss\")\n",
    "plt.xlabel(\"epochs\")\n",
    "plt.ylabel(\"loss\")\n",
    "plt.legend()"
   ]
  },
  {
   "cell_type": "code",
   "execution_count": 15,
   "id": "collectible-parent",
   "metadata": {},
   "outputs": [
    {
     "name": "stderr",
     "output_type": "stream",
     "text": [
      "No handles with labels found to put in legend.\n"
     ]
    },
    {
     "data": {
      "text/plain": [
       "<matplotlib.legend.Legend at 0x190bc2bbda0>"
      ]
     },
     "execution_count": 15,
     "metadata": {},
     "output_type": "execute_result"
    },
    {
     "data": {
      "image/png": "[encoded data removed]",
      "text/plain": [
       "<Figure size 432x288 with 1 Axes>"
      ]
     },
     "metadata": {
      "needs_background": "light"
     },
     "output_type": "display_data"
    }
   ],
   "source": [
    "plt.plot(trained.history['accuracy'])\n",
    "plt.plot(trained.history['val_accuracy'])\n",
    "plt.xlabel(\"epochs\")\n",
    "plt.ylabel(\"Accuracy\")\n",
    "plt.legend()"
   ]
  },
  {
   "cell_type": "code",
   "execution_count": 16,
   "id": "liquid-clause",
   "metadata": {},
   "outputs": [
    {
     "name": "stdout",
     "output_type": "stream",
     "text": [
      "(10, 224, 224, 3)\n",
      "(10, 5)\n",
      "1/1 [==============================] - 0s 339ms/step - loss: 1.3062 - accuracy: 0.6000\n",
      "[1.3061593770980835, 0.6000000238418579]\n",
      "DONE\n"
     ]
    }
   ],
   "source": [
    "#with tf.device('/cpu:0'):\n",
    "# x_test = np.load(f\"{base_path}x_test.npy\")\n",
    "# y_test = np.load(f\"{base_path}y_test.npy\")\n",
    "print(x_test.shape)\n",
    "print(y_test.shape)\n",
    "print(model.evaluate(x=x_test, y=y_test))\n",
    "print(\"DONE\")"
   ]
  },
  {
   "cell_type": "code",
   "execution_count": 17,
   "metadata": {},
   "outputs": [
    {
     "data": {
      "text/plain": [
       "array([[False, False, False, False, False],\n",
       "       [False, False, False, False, False],\n",
       "       [False, False, False, False, False],\n",
       "       [False, False, False, False, False],\n",
       "       [False, False, False, False, False],\n",
       "       [False, False, False, False, False],\n",
       "       [False, False, False, False, False],\n",
       "       [False, False, False, False, False],\n",
       "       [False, False, False, False, False],\n",
       "       [False, False, False, False, False]])"
      ]
     },
     "execution_count": 17,
     "metadata": {},
     "output_type": "execute_result"
    }
   ],
   "source": [
    "y_pred = model.predict(x_test)\n",
    "y_pred = (y_pred > 0.5) \n",
    "y_pred"
   ]
  },
  {
   "cell_type": "code",
   "execution_count": 18,
   "metadata": {},
   "outputs": [
    {
     "data": {
      "text/plain": [
       "array([[[ 9,  0],\n",
       "        [ 1,  0]],\n",
       "\n",
       "       [[ 9,  0],\n",
       "        [ 1,  0]],\n",
       "\n",
       "       [[10,  0],\n",
       "        [ 0,  0]],\n",
       "\n",
       "       [[ 4,  0],\n",
       "        [ 6,  0]],\n",
       "\n",
       "       [[ 8,  0],\n",
       "        [ 2,  0]]], dtype=int64)"
      ]
     },
     "execution_count": 18,
     "metadata": {},
     "output_type": "execute_result"
    }
   ],
   "source": [
    "from sklearn.metrics import multilabel_confusion_matrix\n",
    "score = multilabel_confusion_matrix(\n",
    "    y_test, \n",
    "    y_pred)\n",
    "score"
   ]
  },
  {
   "cell_type": "code",
   "execution_count": 19,
   "id": "automotive-input",
   "metadata": {},
   "outputs": [
    {
     "data": {
      "image/png": "[encoded data removed]",
      "text/plain": [
       "<Figure size 720x144 with 5 Axes>"
      ]
     },
     "metadata": {
      "needs_background": "light"
     },
     "output_type": "display_data"
    }
   ],
   "source": [
    "import matplotlib.pyplot as plt\n",
    "import seaborn as sns\n",
    "\n",
    "fig, axes = plt.subplots(1, 5, figsize=(10, 2))\n",
    "sns.heatmap(score[0], annot=True, fmt=\"d\", cbar=False,ax=axes[0])\n",
    "axes[0].set_title('(CBB)')\n",
    "sns.heatmap(score[1], annot=True, fmt=\"d\", cbar=False,ax=axes[1])\n",
    "axes[1].set_title('(CBSD)')\n",
    "sns.heatmap(score[2], annot=True, fmt=\"d\", cbar=False,ax=axes[2])\n",
    "axes[2].set_title('(CGM)')\n",
    "sns.heatmap(score[3], annot=True, fmt=\"d\", cbar=False,ax=axes[3])\n",
    "axes[3].set_title('(CMD)')\n",
    "sns.heatmap(score[4], annot=True, fmt=\"d\", cbar=False,ax=axes[4])\n",
    "axes[4].set_title('Healthy')\n",
    "fig.tight_layout()\n",
    "plt.show()"
   ]
  },
  {
   "cell_type": "code",
   "execution_count": null,
   "metadata": {},
   "outputs": [],
   "source": []
  }
 ],
 "metadata": {
  "interpreter": {
   "hash": "963d71d93479651a6f1c6c6edea673d15d1950ccb24249efb4f5ed79375351c3"
  },
  "kernelspec": {
   "display_name": "Python 3.7.0 64-bit",
   "language": "python",
   "name": "python3"
  },
  "language_info": {
   "codemirror_mode": {
    "name": "ipython",
    "version": 3
   },
   "file_extension": ".py",
   "mimetype": "text/x-python",
   "name": "python",
   "nbconvert_exporter": "python",
   "pygments_lexer": "ipython3",
   "version": "3.7.0"
  }
 },
 "nbformat": 4,
 "nbformat_minor": 5
}
